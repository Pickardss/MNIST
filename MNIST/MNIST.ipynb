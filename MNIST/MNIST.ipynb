{
 "cells": [
  {
   "cell_type": "code",
   "execution_count": 1,
   "id": "initial_id",
   "metadata": {
    "ExecuteTime": {
     "end_time": "2023-09-21T11:17:49.935189400Z",
     "start_time": "2023-09-21T11:17:46.428992900Z"
    },
    "collapsed": true
   },
   "outputs": [],
   "source": [
    "# MNİST import etme\n",
    "from keras.datasets import mnist\n",
    "\n",
    "# Train ve test verilerini yükleme\n",
    "(x_train, y_train), (x_test, y_test) = mnist.load_data()"
   ]
  },
  {
   "cell_type": "code",
   "execution_count": 2,
   "id": "7009b112ae0fc0ad",
   "metadata": {
    "ExecuteTime": {
     "end_time": "2023-09-21T11:17:49.940875Z",
     "start_time": "2023-09-21T11:17:49.939701400Z"
    },
    "collapsed": false
   },
   "outputs": [],
   "source": [
    "# 28x28 piksel görüntüleri vektöre dönüştürme\n",
    "x_train = x_train.reshape(-1, 28 * 28)\n",
    "x_test = x_test.reshape(-1, 28 * 28)"
   ]
  },
  {
   "cell_type": "code",
   "execution_count": 3,
   "id": "fec75108eb590308",
   "metadata": {
    "ExecuteTime": {
     "end_time": "2023-09-21T11:17:50.584653900Z",
     "start_time": "2023-09-21T11:17:49.939701400Z"
    },
    "collapsed": false
   },
   "outputs": [],
   "source": [
    "from sklearn.model_selection import train_test_split\n",
    "\n",
    "X_validation_train, X_validation_test, y_validation_train, y_validation_test = train_test_split(x_train, y_train, test_size=0.2, shuffle=True)"
   ]
  },
  {
   "cell_type": "code",
   "execution_count": 4,
   "id": "b05b0b135ec3e76c",
   "metadata": {
    "ExecuteTime": {
     "end_time": "2023-09-21T11:18:10.129312700Z",
     "start_time": "2023-09-21T11:17:50.584653900Z"
    },
    "collapsed": false
   },
   "outputs": [],
   "source": [
    "# Decision Tree\n",
    "from sklearn.metrics import accuracy_score\n",
    "from sklearn.tree import DecisionTreeClassifier\n",
    "\n",
    "tree_clf = DecisionTreeClassifier(random_state=42)\n",
    "tree_clf.fit(x_train, y_train)\n",
    "tree_preds = tree_clf.predict(x_test)\n",
    "tree_accuracy = accuracy_score(y_test, tree_preds)"
   ]
  },
  {
   "cell_type": "code",
   "execution_count": 5,
   "id": "d002b3fa897b09ad",
   "metadata": {
    "ExecuteTime": {
     "end_time": "2023-09-21T11:22:02.512115700Z",
     "start_time": "2023-09-21T11:18:10.131315300Z"
    },
    "collapsed": false
   },
   "outputs": [],
   "source": [
    "# SVM\n",
    "from sklearn.svm import SVC\n",
    "\n",
    "svm_clf = SVC()\n",
    "svm_clf.fit(x_train, y_train)\n",
    "svm_preds = svm_clf.predict(x_test)\n",
    "svm_accuracy = accuracy_score(y_test, svm_preds)"
   ]
  },
  {
   "cell_type": "code",
   "execution_count": 6,
   "id": "37e3ecd6532bbffd",
   "metadata": {
    "ExecuteTime": {
     "end_time": "2023-09-21T11:22:24.472644Z",
     "start_time": "2023-09-21T11:22:02.519031800Z"
    },
    "collapsed": false
   },
   "outputs": [],
   "source": [
    "# KNN\n",
    "from sklearn.neighbors import KNeighborsClassifier\n",
    "\n",
    "knn_clf = KNeighborsClassifier()\n",
    "knn_clf.fit(x_train, y_train)\n",
    "knn_preds = knn_clf.predict(x_test)\n",
    "knn_accuracy = accuracy_score(y_test, knn_preds)"
   ]
  },
  {
   "cell_type": "code",
   "execution_count": 7,
   "id": "b70d6019e99987b8",
   "metadata": {
    "ExecuteTime": {
     "end_time": "2023-09-21T11:23:09.718024400Z",
     "start_time": "2023-09-21T11:22:24.474101300Z"
    },
    "collapsed": false
   },
   "outputs": [],
   "source": [
    "# Random Forest\n",
    "from sklearn.ensemble import RandomForestClassifier\n",
    "\n",
    "rf_clf = RandomForestClassifier(random_state=42)\n",
    "rf_clf.fit(x_train, y_train)\n",
    "rf_preds = rf_clf.predict(x_test)\n",
    "rf_accuracy = accuracy_score(y_test, rf_preds)"
   ]
  },
  {
   "cell_type": "code",
   "execution_count": 8,
   "id": "75da75b627f74096",
   "metadata": {
    "ExecuteTime": {
     "end_time": "2023-09-21T11:23:09.728524300Z",
     "start_time": "2023-09-21T11:23:09.718024400Z"
    },
    "collapsed": false
   },
   "outputs": [
    {
     "name": "stdout",
     "output_type": "stream",
     "text": [
      "Decision Tree Accuracy: 0.8755\n",
      "Random Forest Accuracy: 0.9705\n",
      "SVM Accuracy: 0.9792\n",
      "KNN Accuracy: 0.9688\n"
     ]
    }
   ],
   "source": [
    "# Sonuçlar\n",
    "print(\"Decision Tree Accuracy:\", tree_accuracy)\n",
    "print(\"Random Forest Accuracy:\", rf_accuracy)\n",
    "print(\"SVM Accuracy:\", svm_accuracy)\n",
    "print(\"KNN Accuracy:\", knn_accuracy)"
   ]
  },
  {
   "cell_type": "code",
   "execution_count": 9,
   "id": "70eead4737b3acdf",
   "metadata": {
    "ExecuteTime": {
     "end_time": "2023-09-21T11:23:09.909100100Z",
     "start_time": "2023-09-21T11:23:09.724269500Z"
    },
    "collapsed": false
   },
   "outputs": [],
   "source": [
    "from keras.datasets import mnist\n",
    "\n",
    "(X_train, y_train), (X_test, y_test) = mnist.load_data()"
   ]
  },
  {
   "cell_type": "code",
   "execution_count": 10,
   "id": "b0f9590a2bbad1c6",
   "metadata": {
    "ExecuteTime": {
     "end_time": "2023-09-21T11:23:10.024447400Z",
     "start_time": "2023-09-21T11:23:09.909100100Z"
    },
    "collapsed": false
   },
   "outputs": [],
   "source": [
    "# pikselleri 0 ile 1 arasında ölçeklendirme\n",
    "X_train = X_train / 255.0\n",
    "X_test = X_test / 255.0"
   ]
  },
  {
   "cell_type": "code",
   "execution_count": 11,
   "id": "5a4ca68f311f7e8a",
   "metadata": {
    "ExecuteTime": {
     "end_time": "2023-09-21T11:23:10.058272600Z",
     "start_time": "2023-09-21T11:23:10.025469600Z"
    },
    "collapsed": false
   },
   "outputs": [],
   "source": [
    "# Neural Network oluşturma\n",
    "from keras.models import Sequential\n",
    "\n",
    "model = Sequential()"
   ]
  },
  {
   "cell_type": "code",
   "execution_count": 12,
   "id": "e23f6a73d31f3cc6",
   "metadata": {
    "ExecuteTime": {
     "end_time": "2023-09-21T11:23:10.099553Z",
     "start_time": "2023-09-21T11:23:10.057272300Z"
    },
    "collapsed": false
   },
   "outputs": [],
   "source": [
    "# Katman oluşturma\n",
    "from keras.layers import Dense, Flatten\n",
    "\n",
    "model.add(Flatten(input_shape = (28,28)))\n",
    "model.add(Dense(120,activation = 'relu'))\n",
    "model.add(Dense(10,activation = 'softmax'))"
   ]
  },
  {
   "cell_type": "code",
   "execution_count": 13,
   "id": "b66e3421d07e0fd3",
   "metadata": {
    "ExecuteTime": {
     "end_time": "2023-09-21T11:23:10.113189700Z",
     "start_time": "2023-09-21T11:23:10.101025200Z"
    },
    "collapsed": false
   },
   "outputs": [],
   "source": [
    "# Modeli compile etme\n",
    "model.compile(optimizer='adam', loss='sparse_categorical_crossentropy', metrics=['accuracy'])"
   ]
  },
  {
   "cell_type": "code",
   "execution_count": 14,
   "id": "6512a58e2b7b95f8",
   "metadata": {
    "ExecuteTime": {
     "end_time": "2023-09-21T11:23:33.799145300Z",
     "start_time": "2023-09-21T11:23:10.115847100Z"
    },
    "collapsed": false
   },
   "outputs": [
    {
     "name": "stdout",
     "output_type": "stream",
     "text": [
      "Epoch 1/10\n",
      "1875/1875 [==============================] - 3s 1ms/step - loss: 0.2630 - accuracy: 0.9255 - val_loss: 0.1327 - val_accuracy: 0.9605\n",
      "Epoch 2/10\n",
      "1875/1875 [==============================] - 2s 1ms/step - loss: 0.1162 - accuracy: 0.9658 - val_loss: 0.1056 - val_accuracy: 0.9679\n",
      "Epoch 3/10\n",
      "1875/1875 [==============================] - 2s 1ms/step - loss: 0.0796 - accuracy: 0.9755 - val_loss: 0.0934 - val_accuracy: 0.9719\n",
      "Epoch 4/10\n",
      "1875/1875 [==============================] - 2s 1ms/step - loss: 0.0603 - accuracy: 0.9813 - val_loss: 0.0819 - val_accuracy: 0.9769\n",
      "Epoch 5/10\n",
      "1875/1875 [==============================] - 2s 1ms/step - loss: 0.0471 - accuracy: 0.9853 - val_loss: 0.0797 - val_accuracy: 0.9755\n",
      "Epoch 6/10\n",
      "1875/1875 [==============================] - 2s 1ms/step - loss: 0.0377 - accuracy: 0.9878 - val_loss: 0.0715 - val_accuracy: 0.9792\n",
      "Epoch 7/10\n",
      "1875/1875 [==============================] - 2s 1ms/step - loss: 0.0306 - accuracy: 0.9898 - val_loss: 0.0783 - val_accuracy: 0.9761\n",
      "Epoch 8/10\n",
      "1875/1875 [==============================] - 2s 1ms/step - loss: 0.0240 - accuracy: 0.9928 - val_loss: 0.0802 - val_accuracy: 0.9757\n",
      "Epoch 9/10\n",
      "1875/1875 [==============================] - 2s 1ms/step - loss: 0.0205 - accuracy: 0.9934 - val_loss: 0.0767 - val_accuracy: 0.9789\n",
      "Epoch 10/10\n",
      "1875/1875 [==============================] - 2s 1ms/step - loss: 0.0172 - accuracy: 0.9946 - val_loss: 0.0795 - val_accuracy: 0.9793\n"
     ]
    }
   ],
   "source": [
    "# Sinir ağını eğitme\n",
    "\n",
    "history = model.fit(X_train, y_train, epochs=10, validation_data=(X_test, y_test))"
   ]
  },
  {
   "cell_type": "code",
   "execution_count": 15,
   "id": "5a0fe2db34369ca9",
   "metadata": {
    "ExecuteTime": {
     "end_time": "2023-09-21T11:23:33.807545Z",
     "start_time": "2023-09-21T11:23:33.796614200Z"
    },
    "collapsed": false
   },
   "outputs": [],
   "source": [
    "train_loss = history.history['loss']\n",
    "val_loss = history.history['val_loss']"
   ]
  },
  {
   "cell_type": "code",
   "execution_count": 16,
   "id": "71be18391dc76cb8",
   "metadata": {
    "ExecuteTime": {
     "end_time": "2023-09-21T11:23:34.173793100Z",
     "start_time": "2023-09-21T11:23:33.801165Z"
    },
    "collapsed": false
   },
   "outputs": [
    {
     "data": {
      "image/png": "[encoded data removed]",
      "text/plain": [
       "<Figure size 640x480 with 1 Axes>"
      ]
     },
     "metadata": {},
     "output_type": "display_data"
    }
   ],
   "source": [
    "# loss eğrisi \n",
    "from matplotlib import pyplot as plt\n",
    "\n",
    "plt.plot(range(1, len(train_loss) + 1), train_loss, label='Train_loss')\n",
    "plt.plot(range(1, len(val_loss) + 1), val_loss, label='Val_loss')\n",
    "plt.xlabel('Epochs')\n",
    "plt.ylabel('Loss')\n",
    "plt.legend()\n",
    "plt.show()"
   ]
  },
  {
   "cell_type": "code",
   "execution_count": 17,
   "id": "14241e0df6a9d9ff",
   "metadata": {
    "ExecuteTime": {
     "end_time": "2023-09-21T11:23:34.189138200Z",
     "start_time": "2023-09-21T11:23:34.173793100Z"
    },
    "collapsed": false
   },
   "outputs": [
    {
     "name": "stdout",
     "output_type": "stream",
     "text": [
      "Model: \"sequential\"\n",
      "_________________________________________________________________\n",
      " Layer (type)                Output Shape              Param #   \n",
      "=================================================================\n",
      " flatten (Flatten)           (None, 784)               0         \n",
      "                                                                 \n",
      " dense (Dense)               (None, 120)               94200     \n",
      "                                                                 \n",
      " dense_1 (Dense)             (None, 10)                1210      \n",
      "                                                                 \n",
      "=================================================================\n",
      "Total params: 95410 (372.70 KB)\n",
      "Trainable params: 95410 (372.70 KB)\n",
      "Non-trainable params: 0 (0.00 Byte)\n",
      "_________________________________________________________________\n"
     ]
    }
   ],
   "source": [
    "# Modelin özeti\n",
    "model.summary()"
   ]
  },
  {
   "cell_type": "code",
   "execution_count": 18,
   "id": "840a81d921b96d2b",
   "metadata": {
    "ExecuteTime": {
     "end_time": "2023-09-21T11:23:34.603178100Z",
     "start_time": "2023-09-21T11:23:34.177376900Z"
    },
    "collapsed": false
   },
   "outputs": [
    {
     "name": "stdout",
     "output_type": "stream",
     "text": [
      "313/313 [==============================] - 0s 663us/step\n"
     ]
    },
    {
     "data": {
      "text/plain": [
       "array([[8.3527700e-09, 8.1759272e-10, 3.1957757e-08, ..., 9.9940801e-01,\n",
       "        1.8938461e-08, 9.6145936e-07],\n",
       "       [4.8687937e-10, 1.7310052e-07, 9.9999976e-01, ..., 7.9444586e-16,\n",
       "        9.6064290e-10, 3.8410495e-21],\n",
       "       [1.7987530e-09, 9.9995720e-01, 6.4539890e-06, ..., 1.9895711e-05,\n",
       "        8.2805755e-06, 3.4928813e-09],\n",
       "       ...,\n",
       "       [1.0437410e-17, 2.8741912e-14, 1.4519454e-14, ..., 2.3950252e-08,\n",
       "        6.5953232e-10, 4.8523251e-08],\n",
       "       [6.6492818e-14, 2.6685733e-16, 1.4484968e-13, ..., 7.9765585e-16,\n",
       "        1.2392961e-09, 2.2471371e-17],\n",
       "       [2.7569760e-13, 4.9177732e-18, 6.5122988e-13, ..., 1.4207337e-15,\n",
       "        2.6869091e-12, 5.9682180e-17]], dtype=float32)"
      ]
     },
     "execution_count": 18,
     "metadata": {},
     "output_type": "execute_result"
    }
   ],
   "source": [
    "# Test verileriyle tahmin olasılıkları hesaplama\n",
    "test_prob = model.predict(X_test)\n",
    "test_prob"
   ]
  },
  {
   "cell_type": "code",
   "execution_count": 19,
   "id": "9883b0ad5b10284b",
   "metadata": {
    "ExecuteTime": {
     "end_time": "2023-09-21T11:23:34.612790800Z",
     "start_time": "2023-09-21T11:23:34.602169300Z"
    },
    "collapsed": false
   },
   "outputs": [],
   "source": [
    "# En yüksek olasılık sahip sınıfı seçme\n",
    "pred = test_prob.argmax(axis = 1)"
   ]
  },
  {
   "cell_type": "code",
   "execution_count": 20,
   "id": "98c97d388681440f",
   "metadata": {
    "ExecuteTime": {
     "end_time": "2023-09-21T11:23:34.656668200Z",
     "start_time": "2023-09-21T11:23:34.608232500Z"
    },
    "collapsed": false
   },
   "outputs": [
    {
     "name": "stdout",
     "output_type": "stream",
     "text": [
      "Accuracy: 0.9793\n"
     ]
    }
   ],
   "source": [
    "# Doğruluk\n",
    "accuracy = accuracy_score(y_test, pred)\n",
    "print(\"Accuracy:\", accuracy)"
   ]
  },
  {
   "cell_type": "code",
   "execution_count": 21,
   "id": "f8b2eacb22f0a65b",
   "metadata": {
    "ExecuteTime": {
     "end_time": "2023-09-21T11:23:34.985414600Z",
     "start_time": "2023-09-21T11:23:34.624144200Z"
    },
    "collapsed": false
   },
   "outputs": [
    {
     "data": {
      "image/png": "[encoded data removed]",
      "text/plain": [
       "<Figure size 1000x600 with 1 Axes>"
      ]
     },
     "metadata": {},
     "output_type": "display_data"
    }
   ],
   "source": [
    "# Accuracy score karşılaştırması\n",
    "accuracy_scores = [tree_accuracy, rf_accuracy, svm_accuracy, knn_accuracy, accuracy]\n",
    "classifiers = [\"Decision Tree\", \"Random Forest\", \"SVM\", \"KNN\", \"Neural Network\"]\n",
    "\n",
    "plt.figure(figsize=(10, 6))\n",
    "plt.bar(classifiers, accuracy_scores, color=['yellow', 'green', 'red', 'purple', 'violet'])\n",
    "plt.xlabel('Classification Method')\n",
    "plt.ylabel('Accuracy')\n",
    "plt.title('Accuracy scores')\n",
    "plt.ylim(0.8, 1.0) \n",
    "plt.xticks(rotation=45)\n",
    "plt.show()"
   ]
  }
 ],
 "metadata": {
  "kernelspec": {
   "display_name": "Python 3",
   "language": "python",
   "name": "python3"
  },
  "language_info": {
   "codemirror_mode": {
    "name": "ipython",
    "version": 3
   },
   "file_extension": ".py",
   "mimetype": "text/x-python",
   "name": "python",
   "nbconvert_exporter": "python",
   "pygments_lexer": "ipython3",
   "version": "3.11.4"
  }
 },
 "nbformat": 4,
 "nbformat_minor": 5
}
